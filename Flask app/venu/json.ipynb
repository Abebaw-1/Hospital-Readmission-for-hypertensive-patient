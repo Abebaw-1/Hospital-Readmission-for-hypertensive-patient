{
 "cells": [
  {
   "cell_type": "code",
   "execution_count": null,
   "id": "2a21d391",
   "metadata": {},
   "outputs": [],
   "source": [
    "{\n",
    "  \"version\": 2,\n",
    "  \"builds\": [\n",
    "    {\n",
    "      \"src\": \"app.py\",\n",
    "      \"use\": \"@vercel/python\"\n",
    "    }\n",
    "  ],\n",
    "  \"routes\": [\n",
    "    {\n",
    "      \"src\": \"/(.*)\",\n",
    "      \"dest\": \"app.py\"\n",
    "    }\n",
    "  ]\n",
    "}"
   ]
  }
 ],
 "metadata": {
  "kernelspec": {
   "display_name": "Python 3 (ipykernel)",
   "language": "python",
   "name": "python3"
  },
  "language_info": {
   "codemirror_mode": {
    "name": "ipython",
    "version": 3
   },
   "file_extension": ".py",
   "mimetype": "text/x-python",
   "name": "python",
   "nbconvert_exporter": "python",
   "pygments_lexer": "ipython3",
   "version": "3.9.13"
  }
 },
 "nbformat": 4,
 "nbformat_minor": 5
}
